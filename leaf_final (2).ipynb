{
  "cells": [
    {
      "cell_type": "markdown",
      "metadata": {
        "id": "2IQ58gK6G8SA"
      },
      "source": [
        "# **DEPENDENCIES**"
      ]
    },
    {
      "cell_type": "code",
      "execution_count": null,
      "metadata": {
        "collapsed": true,
        "id": "kRlTQ4f777CI"
      },
      "outputs": [],
      "source": [
        "!pip install rembg numpy pillow opencv-python-headless matplotlib scikit-image scikit-fuzzy onnxruntime joblib keras.models\n",
        "\n",
        "import joblib\n",
        "import rembg\n",
        "import numpy as np\n",
        "from PIL import Image\n",
        "import cv2\n",
        "import matplotlib.pyplot as plt\n",
        "import matplotlib\n",
        "from skimage.feature import graycomatrix, graycoprops\n",
        "from skfuzzy import control as ctrl\n",
        "import skfuzzy as fuzz\n",
        "import warnings\n",
        "import pandas as pd\n",
        "from keras.models import load_model\n",
        "import pprint\n",
        "from google.colab import drive\n",
        "drive.mount('/content/drive')\n"
      ]
    },
    {
      "cell_type": "markdown",
      "metadata": {
        "id": "QK6xJOZwLB_j"
      },
      "source": [
        "# LEAF TYPE PREDICTION"
      ]
    },
    {
      "cell_type": "code",
      "execution_count": null,
      "metadata": {
        "colab": {
          "base_uri": "https://localhost:8080/",
          "height": 730
        },
        "id": "hNK_e7Wr7SMg",
        "outputId": "dcd2f571-f43c-4303-f431-39b3c35729c0"
      },
      "outputs": [],
      "source": [
        "disease_class_indices_map = {\n",
        "    \"apple\": {\n",
        "        0: \"Alternia leaf spot\",\n",
        "        1: \"Brown Spot\",\n",
        "        2: \"Fray spot\",\n",
        "        3: \"Healthy\",\n",
        "        4:\"Rust\"\n",
        "    },\n",
        "    \"cotton\": {\n",
        "        0: \"bacterial blight\",\n",
        "        1: \"curl virus\",\n",
        "        2: \"fussarium wilt\",\n",
        "        3: \"healthy\",\n",
        "\n",
        "    },\n",
        "    \"grape\": {\n",
        "        0: \"Grape___Black_rot\",\n",
        "        1: \"Grape___Esca_(Black_Measles)\",\n",
        "        2: \"Healthy\",\n",
        "        3: \"Leaf Blight\"\n",
        "    },\n",
        "    \"mango\": {\n",
        "        0: \"Mango___Anthracnose\",\n",
        "        1: \"Mango___Bacterial_Canker\",\n",
        "        2: \"Mango___Cutting Weevil\",\n",
        "        3: \"Mango___Dieblack\",\n",
        "        4: \"Mango___Gall Midge\",\n",
        "        5: \"Mango___healthy\",\n",
        "        6: \"Mango___Powdery Mildew\",\n",
        "        7: \"Mango___Sooty Mould\"\n",
        "    },\n",
        "    \"potato\": {\n",
        "        0: \"Bacteria\",\n",
        "        1: \"Fungi\",\n",
        "        2: \"Healthy\",\n",
        "        3: \"Nematode\",\n",
        "        4: \"Pest\",\n",
        "        5: \"Phytophthora\",\n",
        "        6: \"Virus\"\n",
        "    },\n",
        "    \"tomato\": {\n",
        "        0: \"Tomato___Bacterial_spot\",\n",
        "        1: \"Tomato___Early_blight\",\n",
        "        2: \"Tomato___Late_blight\",\n",
        "        3: \"Tomato___Leaf_Mold\",\n",
        "        4: \"Tomato___Septoria_leaf_spot\",\n",
        "        5: \"Tomato___Spider_mites\",\n",
        "        6: \"Tomato___Target_Spot\",\n",
        "        7: \"Tomato___Tomato_Yellow_Leaf_Curl_Virus\",\n",
        "        8: \"Tomato___Tomato_mosaic_virus\",\n",
        "        9: \"Tomato___healthy\"\n",
        "    }\n",
        "}\n",
        "\n",
        "\n",
        "import numpy as np\n",
        "from PIL import Image\n",
        "from tensorflow.keras.models import load_model\n",
        "\n",
        "# Load and preprocess image\n",
        "def load_and_preprocess_image(image_path, target_size=(224, 224)):\n",
        "    img = Image.open(image_path).convert(\"RGB\")\n",
        "    img = img.resize(target_size)\n",
        "    img_array = np.array(img)\n",
        "    img_array = np.expand_dims(img_array, axis=0)\n",
        "    img_array = img_array.astype('float32') / 255.\n",
        "    return img_array\n",
        "\n",
        "# Predict using any model\n",
        "def predict_image_class(model, image_path, class_indices):\n",
        "    preprocessed_img = load_and_preprocess_image(image_path)\n",
        "    predictions = model.predict(preprocessed_img)\n",
        "    predicted_class_index = np.argmax(predictions, axis=1)[0]\n",
        "    predicted_class_name = class_indices[predicted_class_index]\n",
        "    return predicted_class_name\n",
        "\n",
        "# Example: Predict full pipeline\n",
        "def predict_leaf_and_disease(image_path):\n",
        "    # Step 1: Predict leaf type\n",
        "    print(\"🔍 Predicting leaf type...\")\n",
        "    leaf_type_model = load_model(\"/content/drive/MyDrive/leaf project/models/leaf_type.h5\")\n",
        "    leaf_type_class_indices = {0: \"apple\", 1: \"cotton\", 2: \"grape\", 3: \"mango\", 4: \"potato\", 5: \"tomato\"}  # Adjust as per your model\n",
        "    leaf_type = predict_image_class(leaf_type_model, image_path, leaf_type_class_indices)\n",
        "    print(f\"🌿 Leaf Type Predicted: {leaf_type}\")\n",
        "\n",
        "    # Step 2: Load and predict using specific leaf model\n",
        "    specific_model_path = f\"/content/drive/MyDrive/leaf project/models/model_leaf_{leaf_type}.h5\"\n",
        "    print(f\"🔬 Predicting disease using: {specific_model_path}\")\n",
        "    disease_model = load_model(specific_model_path)\n",
        "\n",
        "    # Define or load specific class_indices for disease model\n",
        "    # Example for tomato — you should customize this dictionary for each model\n",
        "\n",
        "\n",
        "    disease_class_indices = disease_class_indices_map.get(leaf_type)\n",
        "    if not disease_class_indices:\n",
        "        return f\"No class index map found for {leaf_type} leaf type\"\n",
        "\n",
        "    disease = predict_image_class(disease_model, image_path, disease_class_indices)\n",
        "    print(f\"🧪 Disease Prediction: {disease}\")\n",
        "\n",
        "    return leaf_type, disease\n",
        "\n",
        "\n",
        "\n",
        "input_image_path = '/content/h358.jpg'\n",
        "img = Image.open(input_image_path).resize((512, 512), Image.LANCZOS)\n",
        "img.save(input_image_path)\n",
        "\n",
        "leaf, disease = predict_leaf_and_disease(input_image_path)\n",
        "print(f\"\\n✅ Final Result:\\nLeaf Type: {leaf}\\nPredicted Disease: {disease}\")\n",
        "\n",
        "\n",
        "img = Image.open(input_image_path)\n",
        "\n",
        "plt.figure(figsize=(6, 6))\n",
        "plt.imshow(img)\n",
        "plt.title(f\"Predicted disease: {leaf}_{disease}\", fontsize=14)\n",
        "plt.axis('off')\n",
        "plt.show()"
      ]
    },
    {
      "cell_type": "markdown",
      "metadata": {
        "id": "qIq44Hu4HDBL"
      },
      "source": [
        "# **BACKGROUND REMOVAL OF INPUT IMAGE**"
      ]
    },
    {
      "cell_type": "code",
      "execution_count": null,
      "metadata": {
        "id": "1WF-6hyP9FNQ"
      },
      "outputs": [],
      "source": [
        "def remove_background(image_path):\n",
        "    input_image = Image.open(image_path)\n",
        "    input_array = np.array(input_image)\n",
        "    output_array = rembg.remove(input_array)\n",
        "    output_image = Image.fromarray(output_array)\n",
        "    return input_image, output_image"
      ]
    },
    {
      "cell_type": "markdown",
      "metadata": {
        "id": "io8IegxPYEap"
      },
      "source": [
        "**CHANGE INPUT IMAGE HERE**"
      ]
    },
    {
      "cell_type": "code",
      "execution_count": null,
      "metadata": {
        "colab": {
          "base_uri": "https://localhost:8080/",
          "height": 391
        },
        "id": "z0N33g6Y9iwD",
        "outputId": "329d4c6e-2912-4468-c379-3757b484fd20"
      },
      "outputs": [],
      "source": [
        "input_image, output_image = remove_background(input_image_path)\n",
        "\n",
        "plt.subplot(1, 2, 1)\n",
        "plt.title(\"Original Image\")\n",
        "plt.imshow(input_image)\n",
        "plt.axis(\"off\")\n",
        "\n",
        "plt.subplot(1, 2, 2)\n",
        "plt.title(\"Background Removed\")\n",
        "plt.imshow(output_image)\n",
        "plt.axis(\"off\")\n",
        "\n",
        "plt.tight_layout()\n",
        "plt.show()"
      ]
    },
    {
      "cell_type": "markdown",
      "metadata": {
        "id": "7KnNPtqrOQof"
      },
      "source": [
        "input_image -> INPUT IMAGE\n",
        "\n",
        "output_image -> BACKGROUND REMOVED IMAGE"
      ]
    },
    {
      "cell_type": "markdown",
      "metadata": {
        "id": "g8-Mc7AhHT7x"
      },
      "source": [
        "# **GET MANUAL COLOR RANGES FOR EACH LEAF TYPE**"
      ]
    },
    {
      "cell_type": "code",
      "execution_count": null,
      "metadata": {
        "id": "8z-JEU56BwPa"
      },
      "outputs": [],
      "source": [
        "def get_hsvcolor_ranges(leaf_type):\n",
        "    if leaf_type == 'potato':\n",
        "        return {\n",
        "            'green': (np.array([34, 21, 44]), np.array([78, 255, 255])),\n",
        "            'yellow': (np.array([20, 50, 50]), np.array([30, 255, 255])),\n",
        "            'brown': (np.array([10, 100, 20]), np.array([20, 255, 200])),\n",
        "            'orange': (np.array([10, 50, 50]), np.array([20, 255, 255])),\n",
        "            'skin': (np.array([0, 48, 80]), np.array([20, 255, 255]))\n",
        "\n",
        "        }\n",
        "    elif leaf_type == 'mango':\n",
        "        return {\n",
        "            'green': (np.array([28, 44, 39]), np.array([75, 255, 255])),\n",
        "            'yellow': (np.array([22, 120, 100]), np.array([32, 255, 255])),\n",
        "            'brown': (np.array([8, 100, 40]), np.array([20, 255, 150])),\n",
        "            'orange': (np.array([10, 50, 50]), np.array([20, 255, 255])),\n",
        "            'skin': (np.array([0, 48, 80]), np.array([20, 255, 255])),\n",
        "            'gray': (np.array([0, 0, 50]), np.array([180, 50, 200])),\n",
        "            'red': (np.array([0, 50, 50]), np.array([10, 255, 255]))\n",
        "        }\n",
        "    elif leaf_type == 'apple':\n",
        "        return {\n",
        "            'green': (np.array([41, 24, 24]), np.array([94, 255, 255])),\n",
        "            'yellow': (np.array([22, 120, 100]), np.array([32, 255, 255])),\n",
        "            'brown': (np.array([8, 100, 40]), np.array([20, 255, 150])),\n",
        "            'orange': (np.array([10, 50, 50]), np.array([20, 255, 255])),\n",
        "            'skin': (np.array([0, 48, 80]), np.array([20, 255, 255])),\n",
        "            'gray': (np.array([0, 0, 50]), np.array([180, 50, 200])),\n",
        "            'red': (np.array([0, 50, 50]), np.array([10, 255, 255]))\n",
        "        }\n",
        "    else:\n",
        "        return {\n",
        "            'green': (np.array([34, 21, 44]), np.array([78, 255, 255])),\n",
        "            'yellow': (np.array([20, 50, 50]), np.array([30, 255, 255])),\n",
        "            'brown': (np.array([10, 100, 20]), np.array([20, 255, 200])),\n",
        "            'orange': (np.array([10, 50, 50]), np.array([20, 255, 255])),\n",
        "            'skin': (np.array([0, 48, 80]), np.array([20, 255, 255]))\n",
        "\n",
        "        }"
      ]
    },
    {
      "cell_type": "code",
      "execution_count": null,
      "metadata": {
        "id": "C-sXXSdM-rgI"
      },
      "outputs": [],
      "source": [
        "leaf_type=leaf\n",
        "color_ranges = get_hsvcolor_ranges(leaf_type)"
      ]
    },
    {
      "cell_type": "markdown",
      "metadata": {
        "id": "DxXjS_b1Pmkh"
      },
      "source": [
        "leaf_type -> LEAF TYPE\n",
        "\n",
        "color_ranges -> MANUAL HSV COLOR RANGES ACC TO LEAF TYPE"
      ]
    },
    {
      "cell_type": "markdown",
      "metadata": {
        "id": "uXiZYhenHgNe"
      },
      "source": [
        "# **MAKE THE MASKS AND GET PERCENTAGES AND GLCM FEATURES**"
      ]
    },
    {
      "cell_type": "code",
      "execution_count": null,
      "metadata": {
        "id": "iPs4p6n1B7o7"
      },
      "outputs": [],
      "source": [
        "def analyze_leaf(image, color_ranges):\n",
        "    image_bgr = cv2.cvtColor(np.array(image), cv2.COLOR_RGB2BGR)\n",
        "    hsv = cv2.cvtColor(image_bgr, cv2.COLOR_BGR2HSV)\n",
        "\n",
        "    # Green mask\n",
        "    l_green, u_green = color_ranges['green']\n",
        "    mask_green = cv2.inRange(hsv, l_green, u_green)\n",
        "\n",
        "    # Select only available disease masks\n",
        "    masks = [\n",
        "        cv2.inRange(hsv, color_ranges[key][0], color_ranges[key][1])\n",
        "        for key in ['yellow', 'brown', 'orange', 'skin', 'gray', 'red'] if key in color_ranges\n",
        "    ]\n",
        "\n",
        "    # Combine available masks if any\n",
        "    if masks:\n",
        "        mask_combined = masks[0]\n",
        "        for mask in masks[1:]:\n",
        "            mask_combined = cv2.bitwise_or(mask_combined, mask)\n",
        "\n",
        "        # Apply morphological operations\n",
        "        kernel = np.ones((3, 3), np.uint8)\n",
        "        mask_combined = cv2.dilate(mask_combined, kernel, iterations=1)\n",
        "        mask_combined = cv2.morphologyEx(mask_combined, cv2.MORPH_CLOSE, kernel)\n",
        "    else:\n",
        "        mask_combined = np.zeros_like(mask_green)  # No disease pixels\n",
        "\n",
        "    # Ensure no overlap between green and disease areas\n",
        "    mask_green = cv2.bitwise_and(mask_green, cv2.bitwise_not(mask_combined))\n",
        "    # Calculate disease percentage\n",
        "    total_pixels = image_bgr.shape[0] * image_bgr.shape[1]\n",
        "    green_pixels = np.sum(mask_green == 255)\n",
        "    disease_pixels = np.sum(mask_combined == 255)\n",
        "    disease_percentage = (disease_pixels / (disease_pixels + green_pixels)) * 100\n",
        "    healthy_percentage = 100 - disease_percentage\n",
        "    print(\"Healthy % by color detection\",healthy_percentage)\n",
        "    print(\"Disease % by color detection\",disease_percentage)\n",
        "\n",
        "\n",
        "    # Extract GLCM features for the diseased area\n",
        "    gray_image = cv2.cvtColor(image_bgr, cv2.COLOR_BGR2GRAY)\n",
        "    diseased_region = cv2.bitwise_and(gray_image, gray_image, mask=mask_combined)\n",
        "\n",
        "    # Compute GLCM\n",
        "    glcm = graycomatrix(diseased_region, distances=[1], angles=[0], levels=256, symmetric=True, normed=True)\n",
        "\n",
        "    # Extract all GLCM properties\n",
        "    contrast = graycoprops(glcm, 'contrast')[0, 0]\n",
        "    correlation = graycoprops(glcm, 'correlation')[0, 0]\n",
        "    energy = graycoprops(glcm, 'energy')[0, 0]\n",
        "    homogeneity = graycoprops(glcm, 'homogeneity')[0, 0]\n",
        "    asm = graycoprops(glcm, 'ASM')[0, 0]\n",
        "    dissimilarity = graycoprops(glcm, 'dissimilarity')[0, 0]\n",
        "\n",
        "    # Print all GLCM features\n",
        "    print(f\"\\nGLCM Features:\")\n",
        "    print(f\"\\nContrast: {contrast:.2f}\")\n",
        "    print(f\"Correlation: {correlation:.2f}\")\n",
        "    print(f\"Energy: {energy:.2f}\")\n",
        "    print(f\"Homogeneity: {homogeneity:.2f}\")\n",
        "    print(f\"ASM (Angular Second Moment): {asm:.2f}\")\n",
        "    print(f\"Dissimilarity: {dissimilarity:.2f}\")\n",
        "\n",
        "\n",
        "    return mask_green, mask_combined, disease_percentage, contrast, correlation, energy, homogeneity, asm, dissimilarity\n"
      ]
    },
    {
      "cell_type": "code",
      "execution_count": null,
      "metadata": {
        "colab": {
          "base_uri": "https://localhost:8080/",
          "height": 714
        },
        "id": "C6aJeZWVB3YH",
        "outputId": "c57f4336-f574-415a-85d5-d86ef46ab685"
      },
      "outputs": [],
      "source": [
        "mask_green, mask_combined, disease_percentage, contrast, correlation, energy, homogeneity, asm, dissimilarity = analyze_leaf(\n",
        "        output_image, color_ranges)\n",
        "\n",
        "\n",
        "# Apply masks to the output image to visualize regions\n",
        "output_array = np.array(output_image)\n",
        "\n",
        "# Green area in color\n",
        "green_area = cv2.bitwise_and(output_array, output_array, mask=mask_green)\n",
        "\n",
        "# Diseased area in color\n",
        "diseased_area = cv2.bitwise_and(output_array, output_array, mask=mask_combined)\n",
        "\n",
        "# Display both masks applied to the output image\n",
        "plt.figure(figsize=(10, 5))\n",
        "\n",
        "plt.subplot(1, 2, 1)\n",
        "plt.title(\"Green Area\")\n",
        "plt.imshow(green_area)\n",
        "plt.axis(\"off\")\n",
        "\n",
        "plt.subplot(1, 2, 2)\n",
        "plt.title(\"Diseased Area\")\n",
        "plt.imshow(diseased_area)\n",
        "plt.axis(\"off\")\n",
        "\n",
        "plt.tight_layout()\n",
        "plt.show()\n"
      ]
    },
    {
      "cell_type": "code",
      "execution_count": null,
      "metadata": {
        "id": "lJsv0sGvRxyp"
      },
      "outputs": [],
      "source": [
        "def visualize_results(input_image, output_image, green_mask, disease_mask, leaf_type, disease_percentage):\n",
        "    green_overlay = cv2.cvtColor(green_mask, cv2.COLOR_GRAY2BGR)\n",
        "    disease_overlay = cv2.cvtColor(disease_mask, cv2.COLOR_GRAY2BGR)\n",
        "    green_overlay[np.where((green_overlay == [255, 255, 255]).all(axis=2))] = [0, 255, 0]\n",
        "    disease_overlay[np.where((disease_overlay == [255, 255, 255]).all(axis=2))] = [0, 0, 255]\n",
        "\n",
        "    output_image_bgr = cv2.cvtColor(np.array(output_image), cv2.COLOR_RGB2BGR)\n",
        "    combined_overlay = cv2.addWeighted(output_image_bgr, 1.0, disease_overlay, 0.3, 0)\n",
        "    combined_overlay_rgb = cv2.cvtColor(combined_overlay, cv2.COLOR_BGR2RGB)\n",
        "\n",
        "    fig, axes = plt.subplots(1, 3, figsize=(12, 6))\n",
        "    axes[0].imshow(input_image)\n",
        "    axes[0].set_title(\"Original Image\")\n",
        "    axes[1].imshow(output_image)\n",
        "    axes[1].set_title(\"Background Removed\")\n",
        "    axes[2].imshow(combined_overlay_rgb)\n",
        "    axes[2].set_title(\"Disease Overlay\")\n",
        "    for ax in axes:\n",
        "        ax.axis(\"off\")\n",
        "    fig.text(0.5, 0.02, f\"Leaf: {leaf_type}, Disease: {disease_percentage:.2f}%\",\n",
        "             ha=\"center\", fontsize=12, color=\"red\", bbox={\"facecolor\": \"white\", \"alpha\": 0.8, \"pad\": 5})\n",
        "    plt.tight_layout(rect=[0, 0.05, 1, 1])\n",
        "    plt.show()"
      ]
    },
    {
      "cell_type": "code",
      "execution_count": null,
      "metadata": {
        "colab": {
          "base_uri": "https://localhost:8080/",
          "height": 556
        },
        "id": "WL81yN01R0Si",
        "outputId": "e0c3be5a-9eae-4d6e-f050-162cf55f77fe"
      },
      "outputs": [],
      "source": [
        "visualize_results(input_image, output_image, mask_green, mask_combined, leaf_type, disease_percentage)"
      ]
    },
    {
      "cell_type": "markdown",
      "metadata": {
        "id": "wVkotTHPtflK"
      },
      "source": [
        "mask_green -> GREEN MASK\n",
        "\n",
        "mask_combined -> DISEASE MASK\n",
        "\n",
        "disease_percentage -> COLOR DETECTION DISEASE %\n",
        "\n",
        "contrast, correlation, energy, homogeneity, asm, dissimilarity -> GLCM"
      ]
    },
    {
      "cell_type": "markdown",
      "metadata": {
        "id": "QSrNyOD6HvY8"
      },
      "source": [
        "# **PREDICT PERCENTAGES USING GLCM FEATURES**"
      ]
    },
    {
      "cell_type": "code",
      "execution_count": null,
      "metadata": {
        "id": "_3PBnrkHEziV"
      },
      "outputs": [],
      "source": [
        "def predict_disease_glcm(contrast, correlation, energy, homogeneity, asm, dissimilarity, mask_disease_percent, model_path=\"/content/drive/MyDrive/leaf project/glcm_regressor.pkl\"):\n",
        "    with warnings.catch_warnings():\n",
        "        warnings.simplefilter(\"ignore\")  # Suppress all warnings\n",
        "        model = joblib.load(model_path)\n",
        "        features = np.array([[contrast, correlation, energy, homogeneity, asm, dissimilarity]])\n",
        "        predicted_disease_percent = model.predict(features)[0]\n",
        "\n",
        "    predicted_healthy_percent = 100 - predicted_disease_percent\n",
        "    print(\"Healthy % by glcm prediction:\")\n",
        "    print(predicted_healthy_percent)\n",
        "    print(\"Disease % by glcm prediction:\")\n",
        "    print(predicted_disease_percent)\n",
        "\n",
        "    # Classification logic\n",
        "    if predicted_disease_percent < 5 and mask_disease_percent < 5:\n",
        "        print(\"Confidently Healthy\")\n",
        "    elif (10 > predicted_disease_percent > 5 and mask_disease_percent < 5) or (predicted_disease_percent < 5 and 10 > mask_disease_percent > 5):\n",
        "        print(\"Probably Healthy\")\n",
        "    elif predicted_disease_percent > 20 and mask_disease_percent > 20:\n",
        "        print(\"Confidently Diseased\")\n",
        "    else:\n",
        "        print(\"Probably Diseased\")\n",
        "\n",
        "    return predicted_disease_percent\n"
      ]
    },
    {
      "cell_type": "code",
      "execution_count": null,
      "metadata": {
        "colab": {
          "base_uri": "https://localhost:8080/"
        },
        "id": "HR7awAygEye_",
        "outputId": "13d10db9-8172-4f9d-d835-58f83a75d473"
      },
      "outputs": [],
      "source": [
        "print(\"Healthy % by color detection\",100-disease_percentage)\n",
        "print(\"Disease % by color detection\",disease_percentage)\n",
        "glcm_predicted_disease_percent = predict_disease_glcm(contrast, correlation, energy, homogeneity, asm, dissimilarity, disease_percentage)"
      ]
    },
    {
      "cell_type": "code",
      "execution_count": null,
      "metadata": {
        "id": "a8KigsYh6cDV"
      },
      "outputs": [],
      "source": [
        "def predict_disease_glcm_mrmr(contrast, correlation, energy, homogeneity, asm, dissimilarity, mask_disease_percent, model_path=\"/content/drive/MyDrive/leaf project/glcm_regressor_mrmr.pkl\"):\n",
        "    with warnings.catch_warnings():\n",
        "        warnings.simplefilter(\"ignore\")  # Suppress all warnings\n",
        "        model = joblib.load(model_path)\n",
        "        features = np.array([[contrast, correlation, energy, homogeneity, asm, dissimilarity]])\n",
        "        predicted_disease_percent = model.predict(features)[0]\n",
        "\n",
        "    predicted_healthy_percent = 100 - predicted_disease_percent\n",
        "    print(\"Healthy % by glcm prediction:\")\n",
        "    print(predicted_healthy_percent)\n",
        "    print(\"Disease % by glcm prediction:\")\n",
        "    print(predicted_disease_percent)\n",
        "\n",
        "    # Classification logic\n",
        "    if predicted_disease_percent < 5 and mask_disease_percent < 5:\n",
        "        print(\"Confidently Healthy\")\n",
        "    elif (10 > predicted_disease_percent > 5 and mask_disease_percent < 5) or (predicted_disease_percent < 5 and 10 > mask_disease_percent > 5):\n",
        "        print(\"Probably Healthy\")\n",
        "    elif predicted_disease_percent > 20 and mask_disease_percent > 20:\n",
        "        print(\"Confidently Diseased\")\n",
        "    else:\n",
        "        print(\"Probably Diseased\")\n",
        "\n",
        "    return predicted_disease_percent\n"
      ]
    },
    {
      "cell_type": "code",
      "execution_count": null,
      "metadata": {
        "colab": {
          "base_uri": "https://localhost:8080/",
          "height": 373
        },
        "id": "hx0-xJdr6ern",
        "outputId": "02280936-f2bf-4f1a-b086-4268e81f78e9"
      },
      "outputs": [],
      "source": [
        "print(\"GLCM mrmr\")\n",
        "print(\"Healthy % by color detection\",100-disease_percentage)\n",
        "print(\"Disease % by color detection\",disease_percentage)\n",
        "glcm_predicted_disease_percent = predict_disease_glcm_mrmr(contrast, correlation, energy, homogeneity, asm, dissimilarity, disease_percentage)"
      ]
    },
    {
      "cell_type": "markdown",
      "metadata": {
        "id": "-HDq05VGt4Wh"
      },
      "source": [
        "glcm_predicted_disease_percent -> DISEASE % BY GLCM"
      ]
    },
    {
      "cell_type": "markdown",
      "metadata": {
        "id": "GMiSn-pQH3rc"
      },
      "source": [
        "# **GET LEAF COLOR CLUSTERS GREEN, LIGHT, MILD, DARK AND THEIR PIXEL COUNTS**"
      ]
    },
    {
      "cell_type": "code",
      "execution_count": null,
      "metadata": {
        "id": "ObzI9pdVILGK"
      },
      "outputs": [],
      "source": [
        "def categorize_pixels(mask_green, hsv_image, color_ranges, disease_mask):\n",
        "    # Initialize counts\n",
        "    categories = {\n",
        "        \"green\": np.sum(mask_green == 255),\n",
        "        \"light\": 0,\n",
        "        \"mild\": 0,\n",
        "        \"dark\": 0\n",
        "    }\n",
        "\n",
        "    # Create masks for each category safely\n",
        "    skin_mask = cv2.inRange(hsv_image, *color_ranges['skin']) if 'skin' in color_ranges else np.zeros_like(mask_green)\n",
        "    orange_mask = cv2.inRange(hsv_image, *color_ranges['orange']) if 'orange' in color_ranges else np.zeros_like(mask_green)\n",
        "    yellow_mask = cv2.inRange(hsv_image, *color_ranges['yellow']) if 'yellow' in color_ranges else np.zeros_like(mask_green)\n",
        "    brown_mask = cv2.inRange(hsv_image, *color_ranges['brown']) if 'brown' in color_ranges else np.zeros_like(mask_green)\n",
        "    gray_mask = cv2.inRange(hsv_image, *color_ranges['gray']) if 'gray' in color_ranges else np.zeros_like(mask_green)\n",
        "    red_mask = cv2.inRange(hsv_image, *color_ranges['red']) if 'red' in color_ranges else np.zeros_like(mask_green)\n",
        "\n",
        "\n",
        "    # Combine light masks\n",
        "    light_mask = cv2.bitwise_or(skin_mask, orange_mask)\n",
        "\n",
        "    # Combine dark masks (brown, gray, red)\n",
        "    dark_mask = cv2.bitwise_or(brown_mask, gray_mask)\n",
        "    dark_mask = cv2.bitwise_or(dark_mask, red_mask)\n",
        "\n",
        "    # Assign pixels to categories based on hierarchy\n",
        "    disease_pixels_hsv = hsv_image[disease_mask == 255]\n",
        "    dark_pixels = cv2.bitwise_and(disease_mask, dark_mask)  # Pixels classified as dark\n",
        "    remaining_mask = cv2.bitwise_and(disease_mask, cv2.bitwise_not(dark_pixels))\n",
        "    mild_pixels = cv2.bitwise_and(remaining_mask, yellow_mask)  # Pixels classified as mild\n",
        "    remaining_mask = cv2.bitwise_and(remaining_mask, cv2.bitwise_not(mild_pixels))\n",
        "    light_pixels = cv2.bitwise_and(remaining_mask, light_mask)  # Pixels classified as light\n",
        "\n",
        "    green_pixels=mask_green\n",
        "\n",
        "    # Print pixel counts for debugging\n",
        "    print(f\"Green Pixels: {np.sum(mask_green == 255)}\")\n",
        "    print(f\"Light Pixels: {np.sum(light_pixels == 255)}\")\n",
        "    print(f\"Mild Pixels: {np.sum(mild_pixels == 255)}\")\n",
        "    print(f\"Dark Pixels: {np.sum(dark_pixels == 255)}\")\n",
        "\n",
        "    # Collect valid masks (those that are not empty)\n",
        "    masks = [(\"Green\", green_pixels), (\"Light\", light_pixels), (\"Mild\", mild_pixels), (\"Dark\", dark_pixels)]\n",
        "    valid_masks = [(name, mask) for name, mask in masks if np.any(mask)]  # Keep only non-empty masks\n",
        "\n",
        "    # Update counts\n",
        "    categories[\"dark\"] = np.sum(dark_pixels == 255)\n",
        "    categories[\"mild\"] = np.sum(mild_pixels == 255)\n",
        "    categories[\"light\"] = np.sum(light_pixels == 255)\n",
        "\n",
        "    # Visualization using matplotlib (from HSV)\n",
        "    plt.figure(figsize=(12, 6))\n",
        "    for idx, (name, mask) in enumerate(masks, 1):\n",
        "        colored_area_hsv = cv2.bitwise_and(hsv_image, hsv_image, mask=mask)\n",
        "        colored_area_rgb = cv2.cvtColor(colored_area_hsv, cv2.COLOR_HSV2RGB)\n",
        "        plt.subplot(2, 2, idx)\n",
        "        plt.imshow(colored_area_rgb)\n",
        "        plt.title(f\"{name} Area (HSV-based)\")\n",
        "        plt.axis(\"off\")\n",
        "\n",
        "    plt.tight_layout()\n",
        "    plt.show()\n",
        "\n",
        "\n",
        "    return categories, green_pixels, light_pixels, mild_pixels, dark_pixels, masks\n",
        "\n"
      ]
    },
    {
      "cell_type": "code",
      "execution_count": null,
      "metadata": {
        "colab": {
          "base_uri": "https://localhost:8080/",
          "height": 676
        },
        "id": "fXgzC61iF2dW",
        "outputId": "8378865a-30a2-4d0d-83a4-460fcc47d161"
      },
      "outputs": [],
      "source": [
        "# Additional Step: Analyze HSV values of diseased areas\n",
        "hsv_image = cv2.cvtColor(cv2.cvtColor(np.array(output_image), cv2.COLOR_RGB2BGR), cv2.COLOR_BGR2HSV)\n",
        "categories, green_pixels, light_pixels, mild_pixels, dark_pixels, masks = categorize_pixels(mask_green, hsv_image, color_ranges, mask_combined)\n"
      ]
    },
    {
      "cell_type": "markdown",
      "metadata": {
        "id": "fF28NYGBuDTA"
      },
      "source": [
        "hsv_image -> BACKGROUND REMOVED IMG IN HSV\n",
        "\n",
        "categories -> DICT LIKE \"GREEN\" : X (no of green pixels) AND SO ON\n",
        "\n",
        "green_pixels -> ALL GREEN PIXELS\n",
        "\n",
        "light_pixels -> ALL LIGHT PIXELS\n",
        "\n",
        "mild_pixels -> ALL MILD PIXELS\n",
        "\n",
        "dark_pixels -> ALL DARK PIXELS\n",
        "\n",
        "masks -> DICT LIKE \"GREEN\" : green_pixels AND SO ON"
      ]
    },
    {
      "cell_type": "markdown",
      "metadata": {
        "id": "x3exgWvKNndQ"
      },
      "source": [
        "# **GET LAB COLOR VALUES FOR EACH PIXEL IN EACH CLUSTER**"
      ]
    },
    {
      "cell_type": "code",
      "execution_count": null,
      "metadata": {
        "id": "rczMITJKNmGA"
      },
      "outputs": [],
      "source": [
        "def get_lab_colors(image, masks):\n",
        "\n",
        "    # Convert the image to BGR (for OpenCV), then to LAB\n",
        "    image_bgr = cv2.cvtColor(np.array(image), cv2.COLOR_RGB2BGR)\n",
        "    image_lab = cv2.cvtColor(image_bgr, cv2.COLOR_BGR2LAB)\n",
        "\n",
        "    lab_values_by_category = {}\n",
        "\n",
        "    for name, mask in masks:\n",
        "        # Apply the mask to get LAB values only where mask is 255\n",
        "        lab_pixels = image_lab[mask == 255]\n",
        "        if lab_pixels.size > 0:\n",
        "            lab_values_by_category[name.lower()] = [tuple(pixel) for pixel in lab_pixels]\n",
        "\n",
        "    return lab_values_by_category\n"
      ]
    },
    {
      "cell_type": "code",
      "execution_count": null,
      "metadata": {
        "colab": {
          "base_uri": "https://localhost:8080/"
        },
        "id": "1kzvvn2tN0Rs",
        "outputId": "74ebeda2-0a30-4363-e4d8-3384532bd0ac"
      },
      "outputs": [],
      "source": [
        "lab_color_dict = get_lab_colors(output_image, masks)\n",
        "# print(\"green:\", lab_color_dict['green'][:3])\n",
        "# print(\"mild:\", lab_color_dict['mild'][:3])\n",
        "# print(\"light:\", lab_color_dict['light'][:3])\n",
        "# print(\"dark:\", lab_color_dict['dark'][:3])\n",
        "\n",
        "if 'green' in lab_color_dict:\n",
        "    print(\"green:\", lab_color_dict['green'][:3])\n",
        "else:\n",
        "    print(\"green:\", [])\n",
        "\n",
        "if 'mild' in lab_color_dict:\n",
        "    print(\"mild:\", lab_color_dict['mild'][:3])\n",
        "else:\n",
        "    print(\"mild:\", [])\n",
        "\n",
        "if 'light' in lab_color_dict:\n",
        "    print(\"light:\", lab_color_dict['light'][:3])\n",
        "else:\n",
        "    print(\"light:\", [])\n",
        "\n",
        "if 'dark' in lab_color_dict:\n",
        "    print(\"dark:\", lab_color_dict['dark'][:3])\n",
        "else:\n",
        "    print(\"dark:\", [])\n"
      ]
    },
    {
      "cell_type": "code",
      "execution_count": null,
      "metadata": {
        "colab": {
          "base_uri": "https://localhost:8080/",
          "height": 1000
        },
        "id": "3xj2WQmiRkZz",
        "outputId": "e0a4b277-8901-4dd4-9e54-47393edc830c"
      },
      "outputs": [],
      "source": [
        "def plot_lab_distributions(lab_color_dict):\n",
        "\n",
        "    plt.figure(figsize=(16, 10))\n",
        "\n",
        "    for i, (category, values) in enumerate(lab_color_dict.items(), 1):\n",
        "        lab_array = np.array(values)\n",
        "        L_vals, A_vals, B_vals = lab_array[:, 0], lab_array[:, 1], lab_array[:, 2]\n",
        "\n",
        "        plt.subplot(len(lab_color_dict), 3, (i - 1) * 3 + 1)\n",
        "        plt.hist(L_vals, bins=50, color='gray')\n",
        "        plt.title(f'{category.capitalize()} - L (Lightness)')\n",
        "        plt.xlabel('L')\n",
        "        plt.ylabel('Count')\n",
        "\n",
        "        plt.subplot(len(lab_color_dict), 3, (i - 1) * 3 + 2)\n",
        "        plt.hist(A_vals, bins=50, color='red')\n",
        "        plt.title(f'{category.capitalize()} - A (Green-Red)')\n",
        "        plt.xlabel('A')\n",
        "        plt.ylabel('Count')\n",
        "\n",
        "        plt.subplot(len(lab_color_dict), 3, (i - 1) * 3 + 3)\n",
        "        plt.hist(B_vals, bins=50, color='blue')\n",
        "        plt.title(f'{category.capitalize()} - B (Blue-Yellow)')\n",
        "        plt.xlabel('B')\n",
        "        plt.ylabel('Count')\n",
        "\n",
        "    plt.tight_layout()\n",
        "    plt.show()\n",
        "\n",
        "plot_lab_distributions(lab_color_dict)\n"
      ]
    },
    {
      "cell_type": "code",
      "execution_count": null,
      "metadata": {
        "id": "_pReEZwIVDfs"
      },
      "outputs": [],
      "source": [
        "def visualize_lab_summary(lab_color_dict):\n",
        "    from collections import Counter\n",
        "\n",
        "    summary_dict = {}\n",
        "\n",
        "    fig, axs = plt.subplots(len(lab_color_dict), 2, figsize=(6, 3 * len(lab_color_dict)))\n",
        "    if len(lab_color_dict) == 1:\n",
        "        axs = [axs]  # Make axs iterable if only 1 cluster\n",
        "\n",
        "    for idx, (key, lab_values) in enumerate(lab_color_dict.items()):\n",
        "        lab_array = np.array(lab_values, dtype=np.uint8)\n",
        "\n",
        "        # Average LAB\n",
        "        avg_lab = np.mean(lab_array, axis=0).astype(np.uint8)\n",
        "        avg_lab_img = avg_lab.reshape(1, 1, 3)\n",
        "        avg_rgb = cv2.cvtColor(avg_lab_img, cv2.COLOR_LAB2RGB).reshape(3)\n",
        "\n",
        "        # Most frequent LAB\n",
        "        lab_tuples = [tuple(val) for val in lab_array]\n",
        "        most_common_lab = Counter(lab_tuples).most_common(1)[0][0]\n",
        "        most_common_lab_arr = np.array(most_common_lab, dtype=np.uint8).reshape(1, 1, 3)\n",
        "        common_rgb = cv2.cvtColor(most_common_lab_arr, cv2.COLOR_LAB2RGB).reshape(3)\n",
        "\n",
        "        # Print values\n",
        "        print(f\"{key} - Avg LAB: {avg_lab.tolist()}\")\n",
        "        print(f\"{key} - Most Frequent LAB: {most_common_lab}\")\n",
        "\n",
        "        # Save to summary dict\n",
        "        summary_dict[key] = (tuple(avg_lab.tolist()), most_common_lab)\n",
        "\n",
        "        # Plotting\n",
        "        axs[idx][0].imshow(np.ones((50, 100, 3), dtype=np.uint8) * avg_rgb)\n",
        "        axs[idx][0].set_title(f\"{key} - Avg LAB\")\n",
        "        axs[idx][0].axis(\"off\")\n",
        "\n",
        "        axs[idx][1].imshow(np.ones((50, 100, 3), dtype=np.uint8) * common_rgb)\n",
        "        axs[idx][1].set_title(f\"{key} - Most Frequent LAB\")\n",
        "        axs[idx][1].axis(\"off\")\n",
        "\n",
        "    plt.tight_layout()\n",
        "    plt.show()\n",
        "\n",
        "    return summary_dict\n"
      ]
    },
    {
      "cell_type": "code",
      "execution_count": null,
      "metadata": {
        "colab": {
          "base_uri": "https://localhost:8080/",
          "height": 1000
        },
        "id": "hfeAeZbTp2Mb",
        "outputId": "456cd759-0630-4efc-b1c5-69d3ff222d77"
      },
      "outputs": [],
      "source": [
        "summary_dict = visualize_lab_summary(lab_color_dict)"
      ]
    },
    {
      "cell_type": "markdown",
      "metadata": {
        "id": "smm6bUp_vXSn"
      },
      "source": [
        "lab_color_dict -> DICT LIKE \"GREEN\" : [ (x,y,z) , (a,b,c) ...] AND SO ON\n",
        "\n",
        "summary_dict -> DICT LIKE \"GREEN\" : [ (avg- x,y,z) , (most freq- a,b,c) ] AND SO ON"
      ]
    },
    {
      "cell_type": "markdown",
      "metadata": {
        "id": "6uKDCdT5Twoz"
      },
      "source": [
        "# DISTANCE FORMULAS"
      ]
    },
    {
      "cell_type": "code",
      "execution_count": null,
      "metadata": {
        "id": "w7h-C6cKTvXP"
      },
      "outputs": [],
      "source": [
        "def euclidean_distance(lab1, lab2):\n",
        "    return np.sqrt(np.sum((np.array(lab1) - np.array(lab2))**2))\n",
        "\n",
        "def manhattan_distance(lab1, lab2):\n",
        "    return np.sum(np.abs(np.array(lab1) - np.array(lab2)))\n",
        "\n",
        "def chebyshev_distance(lab1, lab2):\n",
        "    return np.max(np.abs(np.array(lab1) - np.array(lab2)))\n",
        "\n",
        "def canberra_distance(lab1, lab2):\n",
        "    return np.sum(np.abs(np.array(lab1) - np.array(lab2)) / (np.array(lab1) + np.array(lab2) + 1e-10))\n",
        "\n",
        "def minkowski_distance(lab1, lab2, p=3):\n",
        "    return np.sum(np.abs(np.array(lab1) - np.array(lab2)) ** p) ** (1/p)\n",
        "\n",
        "def mahalanobis_distance(lab1, lab2, inv_cov_matrix):\n",
        "    diff = np.array(lab1) - np.array(lab2)\n",
        "    return np.sqrt(np.dot(np.dot(diff.T, inv_cov_matrix), diff))"
      ]
    },
    {
      "cell_type": "markdown",
      "metadata": {
        "id": "pRBRsCMwVqQI"
      },
      "source": [
        "# CLOSENESS FINDING FOR EACH CLUSTER"
      ]
    },
    {
      "cell_type": "code",
      "execution_count": null,
      "metadata": {
        "colab": {
          "base_uri": "https://localhost:8080/",
          "height": 613
        },
        "id": "K3E83j1JxpgU",
        "outputId": "5c5d6e49-5b4a-488e-ab20-f06b126ff5b2"
      },
      "outputs": [],
      "source": [
        "# LAB values for each cluster\n",
        "lab_palette_dict= {\n",
        "    \"green\": [\n",
        "        (180, 102, 183), (172, 98, 183), (169, 98, 183), (168, 100, 183), (168, 98, 180),\n",
        "        (165, 98, 183), (165, 97, 181), (164, 100, 180), (162, 98, 180), (161, 97, 182),\n",
        "        (160, 98, 177), (159, 99, 182), (159, 99, 181), (152, 98, 180), (118, 111, 144)\n",
        "    ],\n",
        "    \"light\": [\n",
        "        (230, 128, 140), (210, 128, 140), (200, 128, 140), (195, 130, 145), (190, 132, 150),\n",
        "        (165, 130, 155), (160, 132, 160), (155, 134, 165), (150, 136, 170), (145, 138, 175),\n",
        "        (140, 140, 180), (135, 142, 185), (130, 144, 190), (125, 146, 195), (120, 148, 200)\n",
        "    ],\n",
        "    \"mild\": [\n",
        "        (208, 123, 189), (204, 119, 181), (202, 117, 182), (201, 123, 185), (199, 117, 180),\n",
        "        (198, 119, 180), (197, 117, 184), (192, 116, 178), (191, 117, 182), (189, 119, 181),\n",
        "        (187, 117, 182), (185, 115, 175), (181, 115, 174), (173, 118, 176), (166, 117, 178)\n",
        "    ],\n",
        "    \"dark\": [\n",
        "        (136, 136, 154), (130, 136, 154), (120, 136, 150), (119, 130, 149), (115, 136, 147),\n",
        "        (112, 132, 147), (111, 135, 147), (110, 132, 147), (106, 136, 150), (105, 137, 155),\n",
        "        (104, 133, 146), (80, 130, 135), (60, 129, 136), (40, 128, 135), (20, 128, 135)\n",
        "    ]\n",
        "}\n",
        "\n",
        "# Convert LAB to RGB for visualization\n",
        "def lab_to_rgb(lab_list):\n",
        "    rgb_list = []\n",
        "    for L, A, B in lab_list:\n",
        "        lab_pixel = np.uint8([[[L, A, B]]])\n",
        "        rgb_pixel = cv2.cvtColor(lab_pixel, cv2.COLOR_LAB2RGB)[0][0]\n",
        "        rgb_list.append(rgb_pixel)\n",
        "    return rgb_list\n",
        "\n",
        "rgb_colors_green = lab_to_rgb(lab_palette_dict[\"green\"])\n",
        "rgb_colors_light = lab_to_rgb(lab_palette_dict[\"light\"])\n",
        "rgb_colors_mild  = lab_to_rgb(lab_palette_dict[\"mild\"])\n",
        "rgb_colors_dark  = lab_to_rgb(lab_palette_dict[\"dark\"])\n",
        "\n",
        "# Function to display colors\n",
        "def display_colors(color_list, title):\n",
        "    fig, ax = plt.subplots(1, 15, figsize=(15, 2))\n",
        "    fig.suptitle(title, fontsize=14)\n",
        "\n",
        "    for i in range(15):\n",
        "        ax[i].imshow([[color_list[i]]])\n",
        "        ax[i].axis(\"off\")\n",
        "\n",
        "    plt.show()\n",
        "\n",
        "# Show all color ranges\n",
        "display_colors(rgb_colors_green, \"Green Shades\")\n",
        "display_colors(rgb_colors_light, \"Light Shades\")\n",
        "display_colors(rgb_colors_mild,  \"Mild Shades\")\n",
        "display_colors(rgb_colors_dark,  \"Dark Shades\")\n"
      ]
    },
    {
      "cell_type": "markdown",
      "metadata": {
        "id": "7v22UTcYYhI_"
      },
      "source": [
        "**USING EUCLIDEAN DISTANCE**"
      ]
    },
    {
      "cell_type": "code",
      "execution_count": null,
      "metadata": {
        "id": "bOTObWSMhl1Y"
      },
      "outputs": [],
      "source": [
        "# def compute_euclid_closeness_table(source_cluster_name):\n",
        "#     palette_colors = lab_palette_dict[source_cluster_name]\n",
        "#     table = []\n",
        "\n",
        "#     for i, palette_lab in enumerate(palette_colors, 1):\n",
        "#         row = {}\n",
        "#         for target_cluster, target_vals in lab_color_dict.items():\n",
        "#             dists = [euclidean_distance(palette_lab, t_lab) for t_lab in target_vals]\n",
        "#             avg_dist = np.mean(dists)\n",
        "#             row[target_cluster] = round(avg_dist, 2)\n",
        "#         table.append(row)\n",
        "\n",
        "#     df = pd.DataFrame(table)\n",
        "#     df.index = range(1, len(df) + 1)\n",
        "#     df.index.name = \"#\"\n",
        "\n",
        "#     # Add row for column-wise averages\n",
        "#     avg_row = df.mean().round(2)\n",
        "#     avg_row.name = \"Average\"\n",
        "#     df = pd.concat([df, pd.DataFrame([avg_row])])\n",
        "\n",
        "#     return df\n",
        "\n",
        "\n",
        "# # Generate and print tables\n",
        "# green_table = compute_euclid_closeness_table(\"green\")\n",
        "# light_table = compute_euclid_closeness_table(\"light\")\n",
        "# mild_table = compute_euclid_closeness_table(\"mild\")\n",
        "# dark_table = compute_euclid_closeness_table(\"dark\")\n",
        "\n",
        "# print(\"\\nCloseness Table for GREEN Cluster:\")\n",
        "# print(green_table.to_string())\n",
        "\n",
        "# print(\"\\nCloseness Table for LIGHT Cluster:\")\n",
        "# print(light_table.to_string())\n",
        "\n",
        "# print(\"\\nCloseness Table for MILD Cluster:\")\n",
        "# print(mild_table.to_string())\n",
        "\n",
        "# print(\"\\nCloseness Table for DARK Cluster:\")\n",
        "# print(dark_table.to_string())\n"
      ]
    },
    {
      "cell_type": "markdown",
      "metadata": {
        "id": "8wGUwOjCjD4k"
      },
      "source": [
        "**USING CHEBYSHEV DISTANCE**"
      ]
    },
    {
      "cell_type": "code",
      "execution_count": null,
      "metadata": {
        "id": "5WoApyygjNAD"
      },
      "outputs": [],
      "source": [
        "# def compute_cheby_closeness_table(source_cluster_name):\n",
        "#     palette_colors = lab_palette_dict[source_cluster_name]\n",
        "#     table = []\n",
        "\n",
        "#     for i, palette_lab in enumerate(palette_colors, 1):\n",
        "#         row = {}\n",
        "#         for target_cluster, target_vals in lab_color_dict.items():\n",
        "#             dists = [chebyshev_distance(palette_lab, t_lab) for t_lab in target_vals]\n",
        "#             avg_dist = np.mean(dists)\n",
        "#             row[target_cluster] = round(avg_dist, 2)\n",
        "#         table.append(row)\n",
        "\n",
        "#     df = pd.DataFrame(table)\n",
        "#     df.index = range(1, len(df) + 1)\n",
        "#     df.index.name = \"#\"\n",
        "\n",
        "#     # Add row for column-wise averages\n",
        "#     avg_row = df.mean().round(2)\n",
        "#     avg_row.name = \"Average\"\n",
        "#     df = pd.concat([df, pd.DataFrame([avg_row])])\n",
        "\n",
        "#     return df\n",
        "\n",
        "# # Generate and print tables\n",
        "# green_table1 = compute_cheby_closeness_table(\"green\")\n",
        "# light_table1 = compute_cheby_closeness_table(\"light\")\n",
        "# mild_table1 = compute_cheby_closeness_table(\"mild\")\n",
        "# dark_table1 = compute_cheby_closeness_table(\"dark\")\n",
        "\n",
        "# print(\"\\nCloseness Table for GREEN Cluster:\")\n",
        "# print(green_table1.to_string())\n",
        "\n",
        "# print(\"\\nCloseness Table for LIGHT Cluster:\")\n",
        "# print(light_table1.to_string())\n",
        "\n",
        "# print(\"\\nCloseness Table for MILD Cluster:\")\n",
        "# print(mild_table1.to_string())\n",
        "\n",
        "# print(\"\\nCloseness Table for DARK Cluster:\")\n",
        "# print(dark_table1.to_string())\n"
      ]
    },
    {
      "cell_type": "markdown",
      "metadata": {
        "id": "-n_PIzsMxwi6"
      },
      "source": [
        "lab_color_dict -> MANUAL LAB COLOR SHADES\n",
        "\n",
        "green_table -> CLUSTER GREEN - CLOSENESS TO 4*15 COLOR SHADES\n",
        "\n",
        "light_table -> CLUSTER LIGHT - CLOSENESS TO 4*15 COLOR SHADES\n",
        "\n",
        "mild_table -> CLUSTER MILD - CLOSENESS TO 4*15 COLOR SHADES\n",
        "\n",
        "dark_table -> CLUSTER DARK - CLOSENESS TO 4*15 COLOR SHADES"
      ]
    },
    {
      "cell_type": "markdown",
      "metadata": {
        "id": "SM5EQriCb-ix"
      },
      "source": [
        "# FUZZY SUB CLUSTERING INTO COLOR STRIPS"
      ]
    },
    {
      "cell_type": "code",
      "execution_count": null,
      "metadata": {
        "colab": {
          "base_uri": "https://localhost:8080/",
          "height": 1000
        },
        "id": "ebPYyo-OuyC5",
        "outputId": "59a68960-d787-4599-e6c3-0330885f3474"
      },
      "outputs": [],
      "source": [
        "def fuzzy_c_subclustering(lab_color_dict):\n",
        "    sub_clusters = {}\n",
        "    cluster_stats = {}  # <- Added dictionary for cluster stats\n",
        "    fig, axes = plt.subplots(4, 3, figsize=(12, 6))\n",
        "    fig.suptitle(\"Cluster Color Strips with Percentages\", fontsize=14)\n",
        "\n",
        "    keys = list(lab_color_dict.keys())\n",
        "    for row_idx, key in enumerate(keys):\n",
        "        pixels = lab_color_dict[key]\n",
        "        if len(pixels) < 3:\n",
        "            for i in range(3):\n",
        "                axes[row_idx, i].axis(\"off\")\n",
        "            continue\n",
        "\n",
        "        data = np.array(pixels).T\n",
        "        cntr, u, _, _, _, _, _ = fuzz.cluster.cmeans(data, 3, 2.0, error=0.005, maxiter=1000)\n",
        "        labels = np.argmax(u, axis=0)\n",
        "\n",
        "        stats = []\n",
        "        sub_clusters[key] = {}\n",
        "        for cluster_idx in range(3):\n",
        "            cluster_pixels = [pixels[j] for j in range(len(pixels)) if labels[j] == cluster_idx]\n",
        "            percent = len(cluster_pixels) / len(pixels) * 100\n",
        "            avg_lab = np.mean(cluster_pixels, axis=0) if cluster_pixels else [0, 0, 0]\n",
        "            stats.append({'cluster': cluster_idx, 'percent': percent, 'avg_lab': avg_lab})\n",
        "\n",
        "            sub_clusters[key][f'cluster {cluster_idx + 1}'] = cluster_pixels\n",
        "\n",
        "            cluster_lab = np.array(cluster_pixels, dtype=np.uint8).reshape(-1, 1, 3)\n",
        "            cluster_rgb = cv2.cvtColor(cluster_lab, cv2.COLOR_Lab2RGB).reshape(-1, 3)\n",
        "\n",
        "            strip_height = max(20, int(len(cluster_rgb) * 0.2))  # Adjust multiplier as needed\n",
        "            strip = np.zeros((strip_height, len(cluster_rgb), 3), dtype=np.uint8)\n",
        "            for x in range(len(cluster_rgb)):\n",
        "                strip[:, x] = cluster_rgb[x]\n",
        "\n",
        "            axes[row_idx, cluster_idx].imshow(strip)\n",
        "            axes[row_idx, cluster_idx].set_title(f\"{key} - {percent:.1f}%\", fontsize=9)\n",
        "            axes[row_idx, cluster_idx].axis(\"off\")\n",
        "\n",
        "        cluster_stats[key] = stats  # <- Save the stats for this key\n",
        "\n",
        "    plt.tight_layout(rect=[0, 0.03, 1, 0.95])\n",
        "    plt.show()\n",
        "\n",
        "    return sub_clusters, cluster_stats  # <- Return both\n",
        "\n",
        "sub_clusters, cluster_stats = fuzzy_c_subclustering(lab_color_dict)\n",
        "pprint.pprint(cluster_stats)\n"
      ]
    },
    {
      "cell_type": "code",
      "execution_count": null,
      "metadata": {
        "colab": {
          "base_uri": "https://localhost:8080/",
          "height": 1000
        },
        "id": "oIgRRH2Vvq9j",
        "outputId": "a7638a06-1f47-431d-9186-a66ee1efff72"
      },
      "outputs": [],
      "source": [
        "\n",
        "\n",
        "def visualize_cluster_averages(cluster_stats):\n",
        "    fig, axs = plt.subplots(4, 3, figsize=(12, 16))\n",
        "    keys = ['dark', 'green', 'light', 'mild']\n",
        "\n",
        "    for i, key in enumerate(keys):\n",
        "        clusters = cluster_stats.get(key, [])\n",
        "        for j, cluster in enumerate(clusters[:3]):\n",
        "            avg_lab = cluster['avg_lab'].astype(np.uint8).reshape(1, 1, 3)\n",
        "            avg_rgb = cv2.cvtColor(avg_lab, cv2.COLOR_LAB2RGB).reshape(3)\n",
        "\n",
        "            axs[i, j].imshow(np.ones((100, 100, 3), dtype=np.uint8) * avg_rgb)\n",
        "            axs[i, j].set_title(f\"{key} Cluster {j }\")\n",
        "            axs[i, j].axis(\"off\")\n",
        "\n",
        "    plt.tight_layout()\n",
        "    plt.show()\n",
        "\n",
        "visualize_cluster_averages(cluster_stats)\n"
      ]
    },
    {
      "cell_type": "markdown",
      "metadata": {
        "id": "ROzJWoUV_DlT"
      },
      "source": [
        "# DISTANCE BTW AVG COLOR OF EACH STRIP AND ALL 15*4 MANUAL PALETTE COLORS"
      ]
    },
    {
      "cell_type": "code",
      "execution_count": null,
      "metadata": {
        "id": "qcK2jdVwfoAN"
      },
      "outputs": [],
      "source": [
        "def compute_cluster_distances(cluster_stats, lab_palette_dict):\n",
        "    distance_table = {}\n",
        "\n",
        "    for label_key, cluster_list in cluster_stats.items():  # e.g., 'green', 'light', etc.\n",
        "        distance_table[label_key] = {}\n",
        "\n",
        "        for cluster_info in cluster_list:  # Each cluster: {'cluster': x, 'avg_lab': ..., 'percent': ...}\n",
        "            cluster_id = f\"cluster {cluster_info['cluster'] + 1}\"\n",
        "            avg_lab = cluster_info['avg_lab']\n",
        "\n",
        "            palette_distances = {}\n",
        "            for palette_key, palette_colors in lab_palette_dict.items():  # e.g., 'green', 'brown', etc.\n",
        "                distances = [euclidean_distance(avg_lab, palette_lab) for palette_lab in palette_colors]\n",
        "                palette_distances[palette_key] = distances  # List of 15 distances\n",
        "\n",
        "            distance_table[label_key][cluster_id] = palette_distances\n",
        "\n",
        "    return distance_table\n",
        "distance_table = compute_cluster_distances(cluster_stats, lab_palette_dict)\n"
      ]
    },
    {
      "cell_type": "markdown",
      "metadata": {
        "id": "EcyygeJcBx5Z"
      },
      "source": [
        "# DISTANCE SCORE AND CLUSTER INDEX"
      ]
    },
    {
      "cell_type": "markdown",
      "metadata": {
        "id": "MrB0ZIoqB6RD"
      },
      "source": [
        "DISTANCE SCORE->\n",
        "\n",
        "dist x 1 + dist x 2 +.....+ dist x 15 for GREEN\n",
        "\n",
        "dist x 15 + dist x 14 +.....+ dist x 1 for OTHERS\n",
        "\n",
        "CLUSTER INDEX->\n",
        "\n",
        "distance score x percent/100"
      ]
    },
    {
      "cell_type": "code",
      "execution_count": null,
      "metadata": {
        "colab": {
          "base_uri": "https://localhost:8080/"
        },
        "id": "jIz8oTEe292j",
        "outputId": "aa508969-e4f5-42d5-cf23-990551e74ff7"
      },
      "outputs": [],
      "source": [
        "def update_cluster_stats_with_dist_score(distance_table, cluster_stats):\n",
        "    for key in distance_table:\n",
        "        for cluster_name, distances in distance_table[key].items():\n",
        "            weights = list(range(1, 16))\n",
        "\n",
        "            # Convert distances to numeric if they are strings\n",
        "            distances_numeric = [float(d) for d in distances['green']] # distances was previously a dictionary, this change makes it a list of numeric values\n",
        "\n",
        "            weighted_sum = sum(weight * dist for weight, dist in zip(weights, distances_numeric)) # distances is now distances_numeric\n",
        "            weight_sum = sum(weights)\n",
        "            dist_score = weighted_sum / weight_sum\n",
        "\n",
        "            cluster_id = int(cluster_name.split()[-1])\n",
        "            for stat in cluster_stats[key]:\n",
        "                if stat['cluster'] == cluster_id - 1:  #cluster id was off by 1\n",
        "                    stat['dist_score'] = dist_score\n",
        "                    stat['cluster_index'] = dist_score * (stat['percent'])/100\n",
        "    return cluster_stats\n",
        "\n",
        "\n",
        "update_cluster_stats_with_dist_score(distance_table, cluster_stats)"
      ]
    },
    {
      "cell_type": "markdown",
      "metadata": {
        "id": "tHkHt-2TCyfk"
      },
      "source": [
        "# SEVERITY SCORE BY COLOR INDEX"
      ]
    },
    {
      "cell_type": "markdown",
      "metadata": {
        "id": "kElw9ng6C3Q7"
      },
      "source": [
        "GREEN (HEALTHY) INDEX -> sum of green sub cluster indexes x %age of green pixels\n",
        "\n",
        "OTHER (DISEASED) INDEXES -> similary for light,mild,dark clusters and pixels\n",
        "\n",
        "SEVERITY SCORE -> HEALTHY INDEX - DISEASED INDEX"
      ]
    },
    {
      "cell_type": "code",
      "execution_count": null,
      "metadata": {
        "colab": {
          "base_uri": "https://localhost:8080/"
        },
        "id": "hXLLMO3x5W4k",
        "outputId": "db06bf78-be57-40d7-9660-eab5784f1716"
      },
      "outputs": [],
      "source": [
        "# Total pixel count\n",
        "total_pixels = sum(categories.values())\n",
        "\n",
        "# Compute indexes using cluster_stats and categories\n",
        "# green_index = sum(c['cluster_index'] for c in cluster_stats['green']) * (categories['green'] / total_pixels)\n",
        "# light_index = sum(c['cluster_index'] for c in cluster_stats['light']) * (categories['light'] / total_pixels)\n",
        "# mild_index  = sum(c['cluster_index'] for c in cluster_stats['mild'])  * (categories['mild']  / total_pixels)\n",
        "# dark_index  = sum(c['cluster_index'] for c in cluster_stats['dark'])  * (categories['dark']  / total_pixels)\n",
        "\n",
        "green_index = sum(c['cluster_index'] for c in cluster_stats.get('green', [])) * (categories.get('green', 0) / total_pixels) if 'green' in cluster_stats else 0\n",
        "light_index = sum(c['cluster_index'] for c in cluster_stats.get('light', [])) * (categories.get('light', 0) / total_pixels) if 'light' in cluster_stats else 0\n",
        "mild_index  = sum(c['cluster_index'] for c in cluster_stats.get('mild',  [])) * (categories.get('mild',  0) / total_pixels) if 'mild'  in cluster_stats else 0\n",
        "dark_index  = sum(c['cluster_index'] for c in cluster_stats.get('dark',  [])) * (categories.get('dark',  0) / total_pixels) if 'dark'  in cluster_stats else 0\n",
        "\n",
        "\n",
        "\n",
        "# Print individual indexes\n",
        "print(\"Green Index:\", green_index)\n",
        "print(\"Light Index:\", light_index)\n",
        "print(\"Mild Index:\", mild_index)\n",
        "print(\"Dark Index:\", dark_index)\n",
        "\n",
        "# Final severity score\n",
        "severity_score = ( light_index + mild_index + dark_index ) -(green_index)\n",
        "# severity_score = ( light_index + 1.5*mild_index + 2*dark_index ) -(green_index)\n",
        "print(\"Severity Score:\", severity_score)\n",
        "\n",
        "clamped_score = max(-60, min(severity_score, 60))\n",
        "\n",
        "normalized_score = ((clamped_score + 60) / 120) * 100\n",
        "\n",
        "\n",
        "# clamped_score = max(-60, min(severity_score, 100))\n",
        "\n",
        "# normalized_score = ((clamped_score + 60) / 160) * 100\n",
        "\n",
        "\n",
        "print(\"Normalized Severity Score (0-100):\", normalized_score)"
      ]
    },
    {
      "cell_type": "code",
      "execution_count": null,
      "metadata": {
        "colab": {
          "base_uri": "https://localhost:8080/",
          "height": 594
        },
        "id": "XcWooSS3-pWx",
        "outputId": "a4db2162-94dd-494b-b879-64a5fcac62cc"
      },
      "outputs": [],
      "source": [
        "def visualize_results1(input_image, output_image, green_mask, disease_mask,\n",
        "                      leaf_type, disease_percentage, glcm_predicted_disease_percent,\n",
        "                      severity_score, normalized_score):\n",
        "\n",
        "    green_overlay = cv2.cvtColor(green_mask, cv2.COLOR_GRAY2BGR)\n",
        "    disease_overlay = cv2.cvtColor(disease_mask, cv2.COLOR_GRAY2BGR)\n",
        "    green_overlay[np.where((green_overlay == [255, 255, 255]).all(axis=2))] = [0, 255, 0]\n",
        "    disease_overlay[np.where((disease_overlay == [255, 255, 255]).all(axis=2))] = [0, 0, 255]\n",
        "\n",
        "    output_image_bgr = cv2.cvtColor(np.array(output_image), cv2.COLOR_RGB2BGR)\n",
        "    combined_overlay = cv2.addWeighted(output_image_bgr, 1.0, disease_overlay, 0.3, 0)\n",
        "    combined_overlay_rgb = cv2.cvtColor(combined_overlay, cv2.COLOR_BGR2RGB)\n",
        "\n",
        "    fig, axes = plt.subplots(1, 3, figsize=(14, 6))\n",
        "    axes[0].imshow(input_image)\n",
        "    axes[0].set_title(\"Original Image\")\n",
        "    axes[1].imshow(output_image)\n",
        "    axes[1].set_title(\"Background Removed\")\n",
        "    axes[2].imshow(combined_overlay_rgb)\n",
        "    axes[2].set_title(\"Disease Overlay\")\n",
        "    for ax in axes:\n",
        "        ax.axis(\"off\")\n",
        "\n",
        "\n",
        "    full_text = (f\"Leaf: {leaf_type},Disease:  {disease}, Disease Pixel %: {disease_percentage:.2f}%\\n\"\n",
        "                 f\"GLCM Predicted Disease %: {glcm_predicted_disease_percent:.2f}%\\n\"\n",
        "                 f\"Severity Score: {severity_score:.2f}, Severity%: {normalized_score:.2f}\")\n",
        "\n",
        "    fig.text(0.5, 0.02, full_text, ha=\"center\", fontsize=11, color=\"red\",\n",
        "             bbox={\"facecolor\": \"white\", \"alpha\": 0.8, \"pad\": 5})\n",
        "\n",
        "    plt.tight_layout(rect=[0, 0.07, 1, 1])\n",
        "    plt.show()\n",
        "\n",
        "\n",
        "\n",
        "visualize_results1(input_image, output_image, mask_green, mask_combined,\n",
        "                  leaf_type, disease_percentage,\n",
        "                  glcm_predicted_disease_percent, severity_score, normalized_score)\n"
      ]
    }
  ],
  "metadata": {
    "colab": {
      "provenance": []
    },
    "kernelspec": {
      "display_name": "Python 3",
      "name": "python3"
    },
    "language_info": {
      "name": "python"
    }
  },
  "nbformat": 4,
  "nbformat_minor": 0
}
